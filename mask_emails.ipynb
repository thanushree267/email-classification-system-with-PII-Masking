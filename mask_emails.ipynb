{
 "cells": [
  {
   "cell_type": "code",
   "execution_count": 1,
   "id": "c662b2b0-6d5d-4092-8370-e1e80e7e83c7",
   "metadata": {},
   "outputs": [],
   "source": [
    "import pandas as pd\n",
    "from pii_masker import mask_pii\n",
    "\n",
    "def mask_email_column(row):\n",
    "    try:\n",
    "        masked_text, _ = mask_pii(row['email'])\n",
    "        return masked_text\n",
    "    except Exception as e:\n",
    "        print(f\"Error processing row: {e}\")\n",
    "        return row['email']\n",
    "\n",
    "df = pd.read_csv('combined_emails_with_natural_pii.csv')\n",
    "df['masked_email'] = df.apply(mask_email_column, axis=1)\n",
    "df.to_csv('data_masked.csv', index=False)"
   ]
  },
  {
   "cell_type": "code",
   "execution_count": null,
   "id": "a3fcab03-cdc5-411a-8564-7052dfaa0a57",
   "metadata": {},
   "outputs": [],
   "source": []
  }
 ],
 "metadata": {
  "kernelspec": {
   "display_name": "Python 3 (ipykernel)",
   "language": "python",
   "name": "python3"
  },
  "language_info": {
   "codemirror_mode": {
    "name": "ipython",
    "version": 3
   },
   "file_extension": ".py",
   "mimetype": "text/x-python",
   "name": "python",
   "nbconvert_exporter": "python",
   "pygments_lexer": "ipython3",
   "version": "3.11.7"
  }
 },
 "nbformat": 4,
 "nbformat_minor": 5
}
